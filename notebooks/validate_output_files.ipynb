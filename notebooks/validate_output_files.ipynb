{
 "cells": [
  {
   "cell_type": "code",
   "execution_count": 10,
   "metadata": {},
   "outputs": [],
   "source": [
    "import os\n",
    "import json\n",
    "import numpy as np\n",
    "import pandas as pd\n"
   ]
  },
  {
   "cell_type": "code",
   "execution_count": 18,
   "metadata": {},
   "outputs": [
    {
     "name": "stdout",
     "output_type": "stream",
     "text": [
      "PLEASE MAKE SURE THE DATA PATH LEADS TO THE DATA DIRECTORY WHERE THE DATA FILES ARE LOCATED\n",
      "\n",
      "** THE DRIVERS_TAH_SCHEDULE FILE IS MISSING FROM THE DATA FOLDER **\n",
      "** THE DYNAMIC_DRIVERS FILE IS MISSING FROM THE DATA FOLDER **\n",
      "** THE DYNAMIC_LOADS FILE IS MISSING FROM THE DATA FOLDER **\n",
      "** THE MULTIPLE_STOPS FILE IS MISSING FROM THE DATA FOLDER **\n",
      "** THE ORDERS FILE IS MISSING FROM THE DATA FOLDER **\n",
      "** THE RELAY_PARS FILE IS MISSING FROM THE DATA FOLDER **\n",
      "** THE STATIC_DRIVERS FILE IS MISSING FROM THE DATA FOLDER **\n",
      "\n",
      "!!! NO FILES RECEIVED !!!\n"
     ]
    }
   ],
   "source": [
    "# BULKY FILE TYPES\n",
    "file_types = [\n",
    "    'location',\n",
    "    'orders',\n",
    "    'relay_pars',\n",
    "    'static_drivers'\n",
    "]\n",
    "\n",
    "# LIVE FILE TYPES\n",
    "# file_types = [\n",
    "#     'drivers_tah_schedule',\n",
    "#     'dynamic_drivers',\n",
    "#     'dynamic_loads',\n",
    "#     'multiple_stops',\n",
    "#     'orders',\n",
    "#     'relay_pars',\n",
    "#     'static_drivers'\n",
    "# ]\n",
    "\n",
    "# WRITE PATH TO DATA DIRECTORY BELOW \n",
    "\n",
    "# BULKY_PATH\n",
    "data_path = '../data/'\n",
    "# LIVE_PATH\n",
    "# data_path = '../../../integration-mapping/data/amx/output/'\n",
    "\n",
    "files = []\n",
    "data = {}\n",
    "files_received = []\n",
    "\n",
    "try:\n",
    "    for i in os.listdir(data_path):\n",
    "        if os.path.isfile(os.path.join(data_path,i)):\n",
    "            files.append(i)\n",
    "except FileNotFoundError:\n",
    "    print(\"PLEASE MAKE SURE THE DATA PATH LEADS TO THE DATA DIRECTORY WHERE THE DATA FILES ARE LOCATED\\n\")   \n",
    "except NameError:\n",
    "    print(\"PLEASE INSERT A VALID PATH STRING TO THE DATA DIRECTORY\\n\")\n",
    "\n",
    "if '.DS_Store' in files:\n",
    "    files.remove('.DS_Store')\n",
    "for file in files:\n",
    "    file_type = file.split('.')[0]\n",
    "    file_extension = file.split('.')[-1]\n",
    "    if file_extension == 'json':\n",
    "        f = open(data_path + file)\n",
    "        data[file_type] = json.load(f)\n",
    "        f.close()\n",
    "        \n",
    "        # data[file_type] = pd.read_json(path_or_buf=data_path + file, numpy=True)\n",
    "    else:\n",
    "        data[file_type] = pd.read_csv(data_path + file, sep='\\t', low_memory=False)\n",
    "\n",
    "for file in file_types:\n",
    "    try:\n",
    "        data[file]\n",
    "        files_received.append(file)\n",
    "    except KeyError:\n",
    "        print(f'** The {file} file is missing from the data folder **'.upper())\n",
    "\n",
    "if len(files_received) == 0:\n",
    "    print(\"\\n!!! NO FILES RECEIVED !!!\")\n",
    "    \n",
    "for file in files_received:\n",
    "    print(f\"{file} - {type(data[file])}\")"
   ]
  },
  {
   "cell_type": "code",
   "execution_count": 3,
   "metadata": {},
   "outputs": [
    {
     "name": "stdout",
     "output_type": "stream",
     "text": [
      "<class 'pandas.core.frame.DataFrame'>\n",
      "RangeIndex: 12676 entries, 0 to 12675\n",
      "Data columns (total 11 columns):\n",
      " #   Column        Non-Null Count  Dtype  \n",
      "---  ------        --------------  -----  \n",
      " 0   CODE          12676 non-null  int64  \n",
      " 1   LAT           12676 non-null  float64\n",
      " 2   LONG          12676 non-null  float64\n",
      " 3   TYPE          12676 non-null  object \n",
      " 4   COUNTRY       12676 non-null  object \n",
      " 5   TIMEZONE      12676 non-null  int64  \n",
      " 6   REGION        12676 non-null  object \n",
      " 7   AREA          12676 non-null  object \n",
      " 8   IS_RELAY_LOC  12676 non-null  object \n",
      " 9   DOM           12676 non-null  object \n",
      " 10  ZIPCODE       12676 non-null  int64  \n",
      "dtypes: float64(2), int64(3), object(6)\n",
      "memory usage: 1.1+ MB\n",
      "None\n"
     ]
    }
   ],
   "source": [
    "print(data['location'].info())"
   ]
  },
  {
   "cell_type": "code",
   "execution_count": 4,
   "metadata": {},
   "outputs": [
    {
     "name": "stdout",
     "output_type": "stream",
     "text": [
      "<class 'pandas.core.frame.DataFrame'>\n",
      "RangeIndex: 159878 entries, 0 to 159877\n",
      "Data columns (total 52 columns):\n",
      " #   Column                   Non-Null Count   Dtype  \n",
      "---  ------                   --------------   -----  \n",
      " 0   LOAD_ID                  159878 non-null  int64  \n",
      " 1   SHIPPER_ID               159878 non-null  object \n",
      " 2   TYP_OF_SHIPPER           159878 non-null  object \n",
      " 3   EQUIP                    159878 non-null  object \n",
      " 4   REQ_PERMITS              159878 non-null  object \n",
      " 5   CALL_DT                  159878 non-null  int64  \n",
      " 6   CALL_TM                  159878 non-null  int64  \n",
      " 7   BOOKING_DT               159878 non-null  int64  \n",
      " 8   BOOKING_TM               159878 non-null  int64  \n",
      " 9   COMMTTD_FLAG             159878 non-null  object \n",
      " 10  ORIG                     159878 non-null  int64  \n",
      " 11  PKUP_APPTM_TYP           159878 non-null  object \n",
      " 12  PKUP_ST_DT               159878 non-null  int64  \n",
      " 13  PKUP_ST_TM               159878 non-null  int64  \n",
      " 14  PKUP_END_DT              159878 non-null  int64  \n",
      " 15  PKUP_END_TM              159878 non-null  int64  \n",
      " 16  PKUP_ARRIVAL_ACT_DT      159878 non-null  object \n",
      " 17  PKUP_ARRIVAL_ACT_TM      159878 non-null  object \n",
      " 18  PKUP_DEPARTURE_ACT_DT    159878 non-null  object \n",
      " 19  PKUP_DEPARTURE_ACT_TM    159878 non-null  object \n",
      " 20  ORIG_LIVE_FLAG           159878 non-null  object \n",
      " 21  DEST                     159878 non-null  int64  \n",
      " 22  DLVERY_APPTM_TYP         159878 non-null  object \n",
      " 23  DLVERY_ST_DT             159878 non-null  int64  \n",
      " 24  DLVERY_ST_TM             159878 non-null  int64  \n",
      " 25  DLVERY_END_DT            159878 non-null  int64  \n",
      " 26  DLVERY_END_TM            159878 non-null  int64  \n",
      " 27  DLVERY_ARRIVAL_ACT_DT    159878 non-null  object \n",
      " 28  DLVERY_ARRIVAL_ACT_TM    159878 non-null  object \n",
      " 29  DLVERY_DEPARTURE_ACT_DT  159878 non-null  object \n",
      " 30  DLVERY_DEPARTURE_ACT_TM  159878 non-null  object \n",
      " 31  DEST_DROP_FLAG           159878 non-null  object \n",
      " 32  LINE_HAUL_REV            159878 non-null  float64\n",
      " 33  OTHER_REV                159878 non-null  float64\n",
      " 34  EXPDT_FLAG               159878 non-null  object \n",
      " 35  STATIC_COST              159878 non-null  int64  \n",
      " 36  CARRIER_ID               159878 non-null  object \n",
      " 37  SUBNETWORK_ID            159878 non-null  object \n",
      " 38  MILEAGE                  159878 non-null  float64\n",
      " 39  NUM_STOPS                159878 non-null  int64  \n",
      " 40  CANCEL_DT                159878 non-null  object \n",
      " 41  CANCEL_TM                159878 non-null  object \n",
      " 42  TYP_OF_LOAD              159878 non-null  object \n",
      " 43  LOAD_SCORE               159878 non-null  int64  \n",
      " 44  TMS_LOAD_STATUS          159878 non-null  object \n",
      " 45  LOAD_STATUS              159878 non-null  object \n",
      " 46  EXTERNAL_SOURCE          159878 non-null  object \n",
      " 47  INTERNAL_SOURCE          159878 non-null  object \n",
      " 48  NONASSET_PERMISSION_REQ  159878 non-null  bool   \n",
      " 49  COMMODITY_TYPE           159878 non-null  object \n",
      " 50  DRVR_ID                  159878 non-null  object \n",
      " 51  CHECK_STATUS             12866 non-null   object \n",
      "dtypes: bool(1), float64(3), int64(18), object(30)\n",
      "memory usage: 62.4+ MB\n",
      "None\n"
     ]
    }
   ],
   "source": [
    "print(data['orders'].info())"
   ]
  },
  {
   "cell_type": "code",
   "execution_count": 5,
   "metadata": {},
   "outputs": [
    {
     "name": "stdout",
     "output_type": "stream",
     "text": [
      "relay_list: 0\n",
      "no_relay_list: 11852\n"
     ]
    }
   ],
   "source": [
    "print(f\"relay_list: {len(data['relay_pars']['relay_list'])}\")\n",
    "print(f\"no_relay_list: {len(data['relay_pars']['no_relay_list'])}\")"
   ]
  },
  {
   "cell_type": "code",
   "execution_count": 6,
   "metadata": {},
   "outputs": [
    {
     "name": "stdout",
     "output_type": "stream",
     "text": [
      "<class 'pandas.core.frame.DataFrame'>\n",
      "RangeIndex: 144 entries, 0 to 143\n",
      "Data columns (total 9 columns):\n",
      " #   Column              Non-Null Count  Dtype \n",
      "---  ------              --------------  ----- \n",
      " 0   Driver_ID           144 non-null    object\n",
      " 1   Driver_Type         144 non-null    object\n",
      " 2   Home                144 non-null    int64 \n",
      " 3   Available_DT        144 non-null    object\n",
      " 4   Available_TM        144 non-null    object\n",
      " 5   Available_Location  144 non-null    object\n",
      " 6   Subnetwork_Id       144 non-null    object\n",
      " 7   Permits             144 non-null    object\n",
      " 8   CHECK_STATUS        2 non-null      object\n",
      "dtypes: int64(1), object(8)\n",
      "memory usage: 10.2+ KB\n",
      "None\n"
     ]
    }
   ],
   "source": [
    "print(data['static_drivers'].info())"
   ]
  },
  {
   "cell_type": "code",
   "execution_count": null,
   "metadata": {},
   "outputs": [],
   "source": []
  }
 ],
 "metadata": {
  "kernelspec": {
   "display_name": "Python 3 (ipykernel)",
   "language": "python",
   "name": "python3"
  },
  "language_info": {
   "codemirror_mode": {
    "name": "ipython",
    "version": 3
   },
   "file_extension": ".py",
   "mimetype": "text/x-python",
   "name": "python",
   "nbconvert_exporter": "python",
   "pygments_lexer": "ipython3",
   "version": "3.9.7"
  }
 },
 "nbformat": 4,
 "nbformat_minor": 4
}
